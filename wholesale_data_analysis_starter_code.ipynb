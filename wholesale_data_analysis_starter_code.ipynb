{
 "cells": [
  {
   "cell_type": "markdown",
   "id": "dc0318d6",
   "metadata": {},
   "source": [
    "## Part 1: Explore the Data\n",
    "\n",
    "Import the data and use Pandas to learn more about the dataset."
   ]
  },
  {
   "cell_type": "code",
   "execution_count": 1,
   "id": "e076f57f",
   "metadata": {},
   "outputs": [
    {
     "data": {
      "text/html": [
       "<div>\n",
       "<style scoped>\n",
       "    .dataframe tbody tr th:only-of-type {\n",
       "        vertical-align: middle;\n",
       "    }\n",
       "\n",
       "    .dataframe tbody tr th {\n",
       "        vertical-align: top;\n",
       "    }\n",
       "\n",
       "    .dataframe thead th {\n",
       "        text-align: right;\n",
       "    }\n",
       "</style>\n",
       "<table border=\"1\" class=\"dataframe\">\n",
       "  <thead>\n",
       "    <tr style=\"text-align: right;\">\n",
       "      <th></th>\n",
       "      <th>first</th>\n",
       "      <th>last</th>\n",
       "      <th>job</th>\n",
       "      <th>phone</th>\n",
       "      <th>email</th>\n",
       "      <th>client_id</th>\n",
       "      <th>order_id</th>\n",
       "      <th>order_date</th>\n",
       "      <th>order_week</th>\n",
       "      <th>order_year</th>\n",
       "      <th>item_id</th>\n",
       "      <th>category</th>\n",
       "      <th>subcategory</th>\n",
       "      <th>unit_price</th>\n",
       "      <th>unit_cost</th>\n",
       "      <th>unit_weight</th>\n",
       "      <th>qty</th>\n",
       "      <th>line_number</th>\n",
       "    </tr>\n",
       "  </thead>\n",
       "  <tbody>\n",
       "    <tr>\n",
       "      <th>0</th>\n",
       "      <td>Donald</td>\n",
       "      <td>Harding</td>\n",
       "      <td>Immunologist</td>\n",
       "      <td>793-904-7725x39308</td>\n",
       "      <td>harding.donald.7185@sullivan.com</td>\n",
       "      <td>58515</td>\n",
       "      <td>8953482</td>\n",
       "      <td>2023-04-28</td>\n",
       "      <td>17</td>\n",
       "      <td>2023</td>\n",
       "      <td>EUD29711-63-6U</td>\n",
       "      <td>decor</td>\n",
       "      <td>wall art</td>\n",
       "      <td>1096.80</td>\n",
       "      <td>762.71</td>\n",
       "      <td>7.50</td>\n",
       "      <td>105</td>\n",
       "      <td>1</td>\n",
       "    </tr>\n",
       "    <tr>\n",
       "      <th>1</th>\n",
       "      <td>Tiffany</td>\n",
       "      <td>Myers</td>\n",
       "      <td>Music therapist</td>\n",
       "      <td>201.442.4543x942</td>\n",
       "      <td>myers.t.6537@ferguson-johnson.net</td>\n",
       "      <td>37609</td>\n",
       "      <td>8069089</td>\n",
       "      <td>2023-05-19</td>\n",
       "      <td>20</td>\n",
       "      <td>2023</td>\n",
       "      <td>XDA18116-89-4A</td>\n",
       "      <td>consumables</td>\n",
       "      <td>pens</td>\n",
       "      <td>24.95</td>\n",
       "      <td>15.09</td>\n",
       "      <td>1.49</td>\n",
       "      <td>21</td>\n",
       "      <td>0</td>\n",
       "    </tr>\n",
       "    <tr>\n",
       "      <th>2</th>\n",
       "      <td>Shannon</td>\n",
       "      <td>Watson</td>\n",
       "      <td>Immunologist</td>\n",
       "      <td>687.737.9424x8503</td>\n",
       "      <td>swatson8146@payne.net</td>\n",
       "      <td>57113</td>\n",
       "      <td>1902144</td>\n",
       "      <td>2023-01-29</td>\n",
       "      <td>4</td>\n",
       "      <td>2023</td>\n",
       "      <td>ABE59463-05-7E</td>\n",
       "      <td>software</td>\n",
       "      <td>project management</td>\n",
       "      <td>13.52</td>\n",
       "      <td>7.86</td>\n",
       "      <td>1.68</td>\n",
       "      <td>39</td>\n",
       "      <td>6</td>\n",
       "    </tr>\n",
       "    <tr>\n",
       "      <th>3</th>\n",
       "      <td>Nathan</td>\n",
       "      <td>Baker</td>\n",
       "      <td>Accounting technician</td>\n",
       "      <td>827-788-8123x012</td>\n",
       "      <td>bakernathan@benson.com</td>\n",
       "      <td>46554</td>\n",
       "      <td>9031802</td>\n",
       "      <td>2023-04-25</td>\n",
       "      <td>17</td>\n",
       "      <td>2023</td>\n",
       "      <td>ZMM00836-65-0C</td>\n",
       "      <td>consumables</td>\n",
       "      <td>pens</td>\n",
       "      <td>36.42</td>\n",
       "      <td>24.85</td>\n",
       "      <td>1.23</td>\n",
       "      <td>29</td>\n",
       "      <td>3</td>\n",
       "    </tr>\n",
       "    <tr>\n",
       "      <th>4</th>\n",
       "      <td>Christina</td>\n",
       "      <td>Schwartz</td>\n",
       "      <td>Chiropractor</td>\n",
       "      <td>265-829-3643</td>\n",
       "      <td>christinaschwartz9252@mcconnell.com</td>\n",
       "      <td>92089</td>\n",
       "      <td>1322274</td>\n",
       "      <td>2023-05-28</td>\n",
       "      <td>21</td>\n",
       "      <td>2023</td>\n",
       "      <td>BZX55559-12-3X</td>\n",
       "      <td>consumables</td>\n",
       "      <td>misc</td>\n",
       "      <td>195.10</td>\n",
       "      <td>108.17</td>\n",
       "      <td>46.43</td>\n",
       "      <td>20</td>\n",
       "      <td>1</td>\n",
       "    </tr>\n",
       "  </tbody>\n",
       "</table>\n",
       "</div>"
      ],
      "text/plain": [
       "       first      last                    job               phone  \\\n",
       "0     Donald   Harding           Immunologist  793-904-7725x39308   \n",
       "1    Tiffany     Myers        Music therapist    201.442.4543x942   \n",
       "2    Shannon    Watson           Immunologist   687.737.9424x8503   \n",
       "3     Nathan     Baker  Accounting technician    827-788-8123x012   \n",
       "4  Christina  Schwartz           Chiropractor        265-829-3643   \n",
       "\n",
       "                                 email  client_id  order_id  order_date  \\\n",
       "0     harding.donald.7185@sullivan.com      58515   8953482  2023-04-28   \n",
       "1    myers.t.6537@ferguson-johnson.net      37609   8069089  2023-05-19   \n",
       "2                swatson8146@payne.net      57113   1902144  2023-01-29   \n",
       "3               bakernathan@benson.com      46554   9031802  2023-04-25   \n",
       "4  christinaschwartz9252@mcconnell.com      92089   1322274  2023-05-28   \n",
       "\n",
       "   order_week  order_year         item_id     category         subcategory  \\\n",
       "0          17        2023  EUD29711-63-6U        decor            wall art   \n",
       "1          20        2023  XDA18116-89-4A  consumables                pens   \n",
       "2           4        2023  ABE59463-05-7E     software  project management   \n",
       "3          17        2023  ZMM00836-65-0C  consumables                pens   \n",
       "4          21        2023  BZX55559-12-3X  consumables                misc   \n",
       "\n",
       "   unit_price  unit_cost  unit_weight  qty  line_number  \n",
       "0     1096.80     762.71         7.50  105            1  \n",
       "1       24.95      15.09         1.49   21            0  \n",
       "2       13.52       7.86         1.68   39            6  \n",
       "3       36.42      24.85         1.23   29            3  \n",
       "4      195.10     108.17        46.43   20            1  "
      ]
     },
     "execution_count": 1,
     "metadata": {},
     "output_type": "execute_result"
    }
   ],
   "source": [
    "import pandas as pd\n",
    "\n",
    "df = pd.read_csv('Resources/client_dataset.csv')\n",
    "df.head()"
   ]
  },
  {
   "cell_type": "code",
   "execution_count": 2,
   "id": "71b9bbd2",
   "metadata": {},
   "outputs": [
    {
     "data": {
      "text/plain": [
       "Index(['first', 'last', 'job', 'phone', 'email', 'client_id', 'order_id',\n",
       "       'order_date', 'order_week', 'order_year', 'item_id', 'category',\n",
       "       'subcategory', 'unit_price', 'unit_cost', 'unit_weight', 'qty',\n",
       "       'line_number'],\n",
       "      dtype='object')"
      ]
     },
     "execution_count": 2,
     "metadata": {},
     "output_type": "execute_result"
    }
   ],
   "source": [
    "# View the column names in the data\n",
    "df.columns"
   ]
  },
  {
   "cell_type": "code",
   "execution_count": 3,
   "id": "bc0f4172",
   "metadata": {},
   "outputs": [
    {
     "data": {
      "text/html": [
       "<div>\n",
       "<style scoped>\n",
       "    .dataframe tbody tr th:only-of-type {\n",
       "        vertical-align: middle;\n",
       "    }\n",
       "\n",
       "    .dataframe tbody tr th {\n",
       "        vertical-align: top;\n",
       "    }\n",
       "\n",
       "    .dataframe thead th {\n",
       "        text-align: right;\n",
       "    }\n",
       "</style>\n",
       "<table border=\"1\" class=\"dataframe\">\n",
       "  <thead>\n",
       "    <tr style=\"text-align: right;\">\n",
       "      <th></th>\n",
       "      <th>client_id</th>\n",
       "      <th>order_id</th>\n",
       "      <th>order_week</th>\n",
       "      <th>order_year</th>\n",
       "      <th>unit_price</th>\n",
       "      <th>unit_cost</th>\n",
       "      <th>unit_weight</th>\n",
       "      <th>qty</th>\n",
       "      <th>line_number</th>\n",
       "    </tr>\n",
       "  </thead>\n",
       "  <tbody>\n",
       "    <tr>\n",
       "      <th>count</th>\n",
       "      <td>54639.000000</td>\n",
       "      <td>5.463900e+04</td>\n",
       "      <td>54639.000000</td>\n",
       "      <td>54639.000000</td>\n",
       "      <td>54639.000000</td>\n",
       "      <td>54639.000000</td>\n",
       "      <td>54639.000000</td>\n",
       "      <td>5.463900e+04</td>\n",
       "      <td>54639.000000</td>\n",
       "    </tr>\n",
       "    <tr>\n",
       "      <th>mean</th>\n",
       "      <td>54837.869416</td>\n",
       "      <td>5.470190e+06</td>\n",
       "      <td>11.359139</td>\n",
       "      <td>2022.993064</td>\n",
       "      <td>136.267207</td>\n",
       "      <td>99.446073</td>\n",
       "      <td>5.004116</td>\n",
       "      <td>5.702646e+02</td>\n",
       "      <td>2.979667</td>\n",
       "    </tr>\n",
       "    <tr>\n",
       "      <th>std</th>\n",
       "      <td>25487.438231</td>\n",
       "      <td>2.599807e+06</td>\n",
       "      <td>7.023499</td>\n",
       "      <td>0.082997</td>\n",
       "      <td>183.873135</td>\n",
       "      <td>133.164267</td>\n",
       "      <td>5.326599</td>\n",
       "      <td>1.879552e+04</td>\n",
       "      <td>2.436320</td>\n",
       "    </tr>\n",
       "    <tr>\n",
       "      <th>min</th>\n",
       "      <td>10033.000000</td>\n",
       "      <td>1.000886e+06</td>\n",
       "      <td>1.000000</td>\n",
       "      <td>2022.000000</td>\n",
       "      <td>0.010000</td>\n",
       "      <td>0.010000</td>\n",
       "      <td>0.000000</td>\n",
       "      <td>0.000000e+00</td>\n",
       "      <td>0.000000</td>\n",
       "    </tr>\n",
       "    <tr>\n",
       "      <th>25%</th>\n",
       "      <td>33593.000000</td>\n",
       "      <td>3.196372e+06</td>\n",
       "      <td>6.000000</td>\n",
       "      <td>2023.000000</td>\n",
       "      <td>20.800000</td>\n",
       "      <td>14.840000</td>\n",
       "      <td>1.450000</td>\n",
       "      <td>3.200000e+01</td>\n",
       "      <td>1.000000</td>\n",
       "    </tr>\n",
       "    <tr>\n",
       "      <th>50%</th>\n",
       "      <td>53305.000000</td>\n",
       "      <td>5.496966e+06</td>\n",
       "      <td>11.000000</td>\n",
       "      <td>2023.000000</td>\n",
       "      <td>68.310000</td>\n",
       "      <td>49.890000</td>\n",
       "      <td>3.240000</td>\n",
       "      <td>6.800000e+01</td>\n",
       "      <td>3.000000</td>\n",
       "    </tr>\n",
       "    <tr>\n",
       "      <th>75%</th>\n",
       "      <td>78498.000000</td>\n",
       "      <td>7.733869e+06</td>\n",
       "      <td>17.000000</td>\n",
       "      <td>2023.000000</td>\n",
       "      <td>173.160000</td>\n",
       "      <td>125.570000</td>\n",
       "      <td>6.890000</td>\n",
       "      <td>1.700000e+02</td>\n",
       "      <td>5.000000</td>\n",
       "    </tr>\n",
       "    <tr>\n",
       "      <th>max</th>\n",
       "      <td>99984.000000</td>\n",
       "      <td>9.998480e+06</td>\n",
       "      <td>52.000000</td>\n",
       "      <td>2023.000000</td>\n",
       "      <td>1396.230000</td>\n",
       "      <td>846.270000</td>\n",
       "      <td>46.430000</td>\n",
       "      <td>3.958244e+06</td>\n",
       "      <td>9.000000</td>\n",
       "    </tr>\n",
       "  </tbody>\n",
       "</table>\n",
       "</div>"
      ],
      "text/plain": [
       "          client_id      order_id    order_week    order_year    unit_price  \\\n",
       "count  54639.000000  5.463900e+04  54639.000000  54639.000000  54639.000000   \n",
       "mean   54837.869416  5.470190e+06     11.359139   2022.993064    136.267207   \n",
       "std    25487.438231  2.599807e+06      7.023499      0.082997    183.873135   \n",
       "min    10033.000000  1.000886e+06      1.000000   2022.000000      0.010000   \n",
       "25%    33593.000000  3.196372e+06      6.000000   2023.000000     20.800000   \n",
       "50%    53305.000000  5.496966e+06     11.000000   2023.000000     68.310000   \n",
       "75%    78498.000000  7.733869e+06     17.000000   2023.000000    173.160000   \n",
       "max    99984.000000  9.998480e+06     52.000000   2023.000000   1396.230000   \n",
       "\n",
       "          unit_cost   unit_weight           qty   line_number  \n",
       "count  54639.000000  54639.000000  5.463900e+04  54639.000000  \n",
       "mean      99.446073      5.004116  5.702646e+02      2.979667  \n",
       "std      133.164267      5.326599  1.879552e+04      2.436320  \n",
       "min        0.010000      0.000000  0.000000e+00      0.000000  \n",
       "25%       14.840000      1.450000  3.200000e+01      1.000000  \n",
       "50%       49.890000      3.240000  6.800000e+01      3.000000  \n",
       "75%      125.570000      6.890000  1.700000e+02      5.000000  \n",
       "max      846.270000     46.430000  3.958244e+06      9.000000  "
      ]
     },
     "execution_count": 3,
     "metadata": {},
     "output_type": "execute_result"
    }
   ],
   "source": [
    "# Use the describe function to gather some basic statistics\n",
    "df.describe()"
   ]
  },
  {
   "cell_type": "code",
   "execution_count": 4,
   "id": "b24b53cc",
   "metadata": {},
   "outputs": [
    {
     "data": {
      "text/plain": [
       "first          54639\n",
       "last           54639\n",
       "job            54639\n",
       "phone          54639\n",
       "email          54639\n",
       "client_id      54639\n",
       "order_id       54639\n",
       "order_date     54639\n",
       "order_week     54639\n",
       "order_year     54639\n",
       "item_id        54639\n",
       "category       54639\n",
       "subcategory    54639\n",
       "unit_price     54639\n",
       "unit_cost      54639\n",
       "unit_weight    54639\n",
       "qty            54639\n",
       "line_number    54639\n",
       "dtype: int64"
      ]
     },
     "execution_count": 4,
     "metadata": {},
     "output_type": "execute_result"
    }
   ],
   "source": [
    "# Use this space to do any additional research\n",
    "# and familiarize yourself with the data.\n",
    "df.count()"
   ]
  },
  {
   "cell_type": "code",
   "execution_count": 5,
   "id": "551cb358",
   "metadata": {},
   "outputs": [
    {
     "data": {
      "text/plain": [
       "category\n",
       "consumables    23538\n",
       "furniture      11915\n",
       "software        8400\n",
       "Name: count, dtype: int64"
      ]
     },
     "execution_count": 5,
     "metadata": {},
     "output_type": "execute_result"
    }
   ],
   "source": [
    "# What three item categories had the most entries?\n",
    "top_3_categories = df[\"category\"].value_counts()\n",
    "top_3_categories.head(3)\n",
    "# Answer. The three categories with the most entries: consumables, furniture and software."
   ]
  },
  {
   "cell_type": "code",
   "execution_count": 6,
   "id": "5f54e2cf",
   "metadata": {},
   "outputs": [
    {
     "data": {
      "text/plain": [
       "subcategory\n",
       "bathroom supplies    6424\n",
       "paper products       5874\n",
       "kitchen supplies     5746\n",
       "misc                 2891\n",
       "pens                 2603\n",
       "Name: count, dtype: int64"
      ]
     },
     "execution_count": 6,
     "metadata": {},
     "output_type": "execute_result"
    }
   ],
   "source": [
    "# For the category with the most entries, which subcategory had the most entries?\n",
    "top_category = df[df[\"category\"] == \"consumables\"]\n",
    "top_subcategory = top_category[\"subcategory\"].value_counts()\n",
    "top_subcategory.head()\n",
    "# Answer. The category with the most entries is consumables.\n",
    "# Within consumables, the subcategory with the most entries is bathroom supplies."
   ]
  },
  {
   "cell_type": "code",
   "execution_count": 7,
   "id": "2db94379",
   "metadata": {},
   "outputs": [
    {
     "data": {
      "text/plain": [
       "client_id\n",
       "33615    220\n",
       "66037    211\n",
       "46820    209\n",
       "38378    207\n",
       "24741    207\n",
       "Name: count, dtype: int64"
      ]
     },
     "execution_count": 7,
     "metadata": {},
     "output_type": "execute_result"
    }
   ],
   "source": [
    "# Which five clients had the most entries in the data?\n",
    "df[\"client_id\"].value_counts().head(5)\n",
    "# Answer. The five clients with the most entries are client_id: 33615, 66037, 46820,\n",
    "# 38378 and 24741."
   ]
  },
  {
   "cell_type": "code",
   "execution_count": 8,
   "id": "a6635601",
   "metadata": {},
   "outputs": [
    {
     "data": {
      "text/plain": [
       "[33615, 66037, 46820, 38378, 24741]"
      ]
     },
     "execution_count": 8,
     "metadata": {},
     "output_type": "execute_result"
    }
   ],
   "source": [
    "# Store the client ids of those top 5 clients in a list.\n",
    "top_5clients_entry = df[\"client_id\"].value_counts().head(5)\n",
    "top_5clients_ids = top_5clients_entry.index.tolist()\n",
    "top_5clients_ids"
   ]
  },
  {
   "cell_type": "code",
   "execution_count": 9,
   "id": "c88b8a3e",
   "metadata": {},
   "outputs": [
    {
     "data": {
      "text/plain": [
       "64313"
      ]
     },
     "execution_count": 9,
     "metadata": {},
     "output_type": "execute_result"
    }
   ],
   "source": [
    "# How many total units (the qty column) did the client with the most entries order order?\n",
    "client_most_entries = top_5clients_ids[0]\n",
    "df[df[\"client_id\"] == client_most_entries][\"qty\"].sum()\n",
    "# Answer. The client with the most entries is client_id: 33615.\n",
    "# He had 64,313 units ordered."
   ]
  },
  {
   "cell_type": "markdown",
   "id": "257fcd7d",
   "metadata": {},
   "source": [
    "## Part 2: Transform the Data\n",
    "Do we know that this client spent the more money than client 66037? If not, how would we find out? Transform the data using the steps below to prepare it for analysis."
   ]
  },
  {
   "cell_type": "code",
   "execution_count": 10,
   "id": "0c25c4a8",
   "metadata": {},
   "outputs": [
    {
     "data": {
      "text/plain": [
       "0        115164.00\n",
       "1           523.95\n",
       "2           527.28\n",
       "3          1056.18\n",
       "4          3902.00\n",
       "           ...    \n",
       "54634      2743.29\n",
       "54635      9709.73\n",
       "54636     31188.50\n",
       "54637       165.76\n",
       "54638      3103.31\n",
       "Name: subtotal, Length: 54639, dtype: float64"
      ]
     },
     "execution_count": 10,
     "metadata": {},
     "output_type": "execute_result"
    }
   ],
   "source": [
    "# Create a column that calculates the subtotal for each line using the unit_price and the qty\n",
    "df[\"subtotal\"] = df[\"unit_price\"] * df[\"qty\"]\n",
    "df[\"subtotal\"]"
   ]
  },
  {
   "cell_type": "code",
   "execution_count": 11,
   "id": "ac9dafc8",
   "metadata": {},
   "outputs": [
    {
     "data": {
      "text/plain": [
       "0         5512.50\n",
       "1          312.90\n",
       "2          458.64\n",
       "3          356.70\n",
       "4         6500.20\n",
       "           ...   \n",
       "54634      519.75\n",
       "54635     3849.30\n",
       "54636    13832.00\n",
       "54637    14143.36\n",
       "54638    14939.19\n",
       "Name: shipping_price, Length: 54639, dtype: float64"
      ]
     },
     "execution_count": 11,
     "metadata": {},
     "output_type": "execute_result"
    }
   ],
   "source": [
    "# Create a column for shipping price.\n",
    "# Assume a shipping price of $7 per pound for orders over 50 pounds and $10 per pound for items 50 pounds or under.\n",
    "def shipping(row):\n",
    "    if row[\"unit_weight\"] * row[\"qty\"] > 50:\n",
    "        shipping_price = 7 * row[\"unit_weight\"] * row[\"qty\"]\n",
    "        return shipping_price\n",
    "    else:\n",
    "        shipping_price = 10 * row[\"unit_weight\"] * row[\"qty\"]\n",
    "        return shipping_price\n",
    "\n",
    "df[\"shipping_price\"] = df.apply(shipping, axis = 1) \n",
    "\n",
    "df[\"shipping_price\"]"
   ]
  },
  {
   "cell_type": "code",
   "execution_count": 12,
   "id": "77f42c67",
   "metadata": {},
   "outputs": [
    {
     "data": {
      "text/plain": [
       "0        131839.076250\n",
       "1           914.258625\n",
       "2          1077.117600\n",
       "3          1543.571400\n",
       "4         11364.403500\n",
       "             ...      \n",
       "54634      3564.871200\n",
       "54635     14813.240275\n",
       "54636     49184.896250\n",
       "54637     15632.713600\n",
       "54638     19711.431250\n",
       "Name: total_price, Length: 54639, dtype: float64"
      ]
     },
     "execution_count": 12,
     "metadata": {},
     "output_type": "execute_result"
    }
   ],
   "source": [
    "# Create a column for the total price using the subtotal and the shipping price along with a sales tax of 9.25%\n",
    "# Answer assumes 9.25% tax rate also applied to shipping price.\n",
    "def price_total(row):\n",
    "    total_price = 1.0925 * ( row[\"subtotal\"] + row[\"shipping_price\"] )\n",
    "    return total_price\n",
    "\n",
    "df[\"total_price\"] = df.apply(price_total, axis = 1)\n",
    "\n",
    "df[\"total_price\"]\n"
   ]
  },
  {
   "cell_type": "code",
   "execution_count": 13,
   "id": "c82ad275",
   "metadata": {},
   "outputs": [
    {
     "data": {
      "text/plain": [
       "0        85597.05\n",
       "1          629.79\n",
       "2          765.18\n",
       "3         1077.35\n",
       "4         8663.60\n",
       "           ...   \n",
       "54634     2222.55\n",
       "54635    12095.92\n",
       "54636    41054.25\n",
       "54637    14280.00\n",
       "54638    16599.10\n",
       "Name: total_cost, Length: 54639, dtype: float64"
      ]
     },
     "execution_count": 13,
     "metadata": {},
     "output_type": "execute_result"
    }
   ],
   "source": [
    "# Create a column for the cost of each line using unit cost, qty, and\n",
    "# shipping price (assume the shipping cost is exactly what is charged to the client).\n",
    "\n",
    "def cost_total(row):\n",
    "    total_cost = row[\"unit_cost\"] * row[\"qty\"] + row[\"shipping_price\"]\n",
    "    return total_cost\n",
    "\n",
    "df[\"total_cost\"] = df.apply(cost_total, axis = 1)\n",
    "\n",
    "df[\"total_cost\"]"
   ]
  },
  {
   "cell_type": "code",
   "execution_count": 14,
   "id": "e2389018",
   "metadata": {},
   "outputs": [
    {
     "data": {
      "text/plain": [
       "0        46242.026250\n",
       "1          284.468625\n",
       "2          311.937600\n",
       "3          466.221400\n",
       "4         2700.803500\n",
       "             ...     \n",
       "54634     1342.321200\n",
       "54635     2717.320275\n",
       "54636     8130.646250\n",
       "54637     1352.713600\n",
       "54638     3112.331250\n",
       "Name: total_profit, Length: 54639, dtype: float64"
      ]
     },
     "execution_count": 14,
     "metadata": {},
     "output_type": "execute_result"
    }
   ],
   "source": [
    "# Create a column for the profit of each line using line cost and line price\n",
    "\n",
    "df[\"total_profit\"] = df[\"total_price\"] - df[\"total_cost\"]\n",
    "\n",
    "df[\"total_profit\"]"
   ]
  },
  {
   "cell_type": "markdown",
   "id": "ef6f62b1",
   "metadata": {},
   "source": [
    "## Part 3: Confirm your work\n",
    "You have email receipts showing that the total prices for 3 orders. Confirm that your calculations match the receipts. Remember, each order has multiple lines.\n",
    "\n",
    "Order ID 2742071 had a total price of \\$152,811.89\n",
    "\n",
    "Order ID 2173913 had a total price of \\$162,388.71\n",
    "\n",
    "Order ID 6128929 had a total price of \\$923,441.25\n"
   ]
  },
  {
   "cell_type": "code",
   "execution_count": 15,
   "id": "c0e5d68e",
   "metadata": {},
   "outputs": [
    {
     "data": {
      "text/plain": [
       "152811.897075"
      ]
     },
     "execution_count": 15,
     "metadata": {},
     "output_type": "execute_result"
    }
   ],
   "source": [
    "# Check your work using the totals above\n",
    "\n",
    "df[\"total_price\"].loc[ df[\"order_id\"] == 2742071 ].sum()"
   ]
  },
  {
   "cell_type": "code",
   "execution_count": 16,
   "id": "0ac6cf04-17f0-4e88-9bf3-d8c7bcdff867",
   "metadata": {},
   "outputs": [
    {
     "data": {
      "text/plain": [
       "162388.7193"
      ]
     },
     "execution_count": 16,
     "metadata": {},
     "output_type": "execute_result"
    }
   ],
   "source": [
    "df[\"total_price\"].loc[ df[\"order_id\"] == 2173913 ].sum()\n"
   ]
  },
  {
   "cell_type": "code",
   "execution_count": 17,
   "id": "adac888a-5771-4b1b-8ee3-a66c4994b6d3",
   "metadata": {},
   "outputs": [
    {
     "data": {
      "text/plain": [
       "923441.24045"
      ]
     },
     "execution_count": 17,
     "metadata": {},
     "output_type": "execute_result"
    }
   ],
   "source": [
    "df[\"total_price\"].loc[ df[\"order_id\"] == 6128929 ].sum()\n"
   ]
  },
  {
   "cell_type": "markdown",
   "id": "b94d58ab",
   "metadata": {},
   "source": [
    "## Part 4: Summarize and Analyze\n",
    "Use the new columns with confirmed values to find the following information."
   ]
  },
  {
   "cell_type": "code",
   "execution_count": 18,
   "id": "7c005f34",
   "metadata": {},
   "outputs": [
    {
     "name": "stdout",
     "output_type": "stream",
     "text": [
      "8377308.572500001\n",
      "10259514.801275\n",
      "9743794.320474999\n",
      "12906550.880874999\n",
      "82268891.97985002\n"
     ]
    }
   ],
   "source": [
    "# How much did each of the top 5 clients by quantity spend? Check your work from Part 1 for client ids.\n",
    "def spend_total(clients):\n",
    "    for client in clients:\n",
    "        total_spend = df[\"total_price\"].loc[ df[\"client_id\"] == client ].sum()\n",
    "        print(total_spend)\n",
    "\n",
    "spend_total(top_5clients_ids)"
   ]
  },
  {
   "cell_type": "code",
   "execution_count": 19,
   "id": "a67cc6cd-e4cb-4c48-961a-a34eb10d8b59",
   "metadata": {},
   "outputs": [
    {
     "data": {
      "text/plain": [
       "8377308.572500001"
      ]
     },
     "execution_count": 19,
     "metadata": {},
     "output_type": "execute_result"
    }
   ],
   "source": [
    "# Check for client_id 33615 and total_price\n",
    "df[\"total_price\"].loc[ df[\"client_id\"] == 33615 ].sum()"
   ]
  },
  {
   "cell_type": "code",
   "execution_count": 20,
   "id": "81b6e4d2",
   "metadata": {},
   "outputs": [
    {
     "data": {
      "text/html": [
       "<div>\n",
       "<style scoped>\n",
       "    .dataframe tbody tr th:only-of-type {\n",
       "        vertical-align: middle;\n",
       "    }\n",
       "\n",
       "    .dataframe tbody tr th {\n",
       "        vertical-align: top;\n",
       "    }\n",
       "\n",
       "    .dataframe thead th {\n",
       "        text-align: right;\n",
       "    }\n",
       "</style>\n",
       "<table border=\"1\" class=\"dataframe\">\n",
       "  <thead>\n",
       "    <tr style=\"text-align: right;\">\n",
       "      <th></th>\n",
       "      <th>qty</th>\n",
       "      <th>shipping_price</th>\n",
       "      <th>total_price</th>\n",
       "      <th>total_profit</th>\n",
       "    </tr>\n",
       "    <tr>\n",
       "      <th>client_id</th>\n",
       "      <th></th>\n",
       "      <th></th>\n",
       "      <th></th>\n",
       "      <th></th>\n",
       "    </tr>\n",
       "  </thead>\n",
       "  <tbody>\n",
       "    <tr>\n",
       "      <th>24741</th>\n",
       "      <td>239862</td>\n",
       "      <td>5126448.37</td>\n",
       "      <td>8.226889e+07</td>\n",
       "      <td>3.657999e+07</td>\n",
       "    </tr>\n",
       "    <tr>\n",
       "      <th>33615</th>\n",
       "      <td>64313</td>\n",
       "      <td>1828984.89</td>\n",
       "      <td>8.377309e+06</td>\n",
       "      <td>2.201995e+06</td>\n",
       "    </tr>\n",
       "    <tr>\n",
       "      <th>38378</th>\n",
       "      <td>73667</td>\n",
       "      <td>3429455.40</td>\n",
       "      <td>1.290655e+07</td>\n",
       "      <td>3.271830e+06</td>\n",
       "    </tr>\n",
       "    <tr>\n",
       "      <th>46820</th>\n",
       "      <td>75768</td>\n",
       "      <td>1601448.84</td>\n",
       "      <td>9.743794e+06</td>\n",
       "      <td>2.736603e+06</td>\n",
       "    </tr>\n",
       "    <tr>\n",
       "      <th>66037</th>\n",
       "      <td>43018</td>\n",
       "      <td>1395151.85</td>\n",
       "      <td>1.025951e+07</td>\n",
       "      <td>3.255032e+06</td>\n",
       "    </tr>\n",
       "  </tbody>\n",
       "</table>\n",
       "</div>"
      ],
      "text/plain": [
       "              qty  shipping_price   total_price  total_profit\n",
       "client_id                                                    \n",
       "24741      239862      5126448.37  8.226889e+07  3.657999e+07\n",
       "33615       64313      1828984.89  8.377309e+06  2.201995e+06\n",
       "38378       73667      3429455.40  1.290655e+07  3.271830e+06\n",
       "46820       75768      1601448.84  9.743794e+06  2.736603e+06\n",
       "66037       43018      1395151.85  1.025951e+07  3.255032e+06"
      ]
     },
     "execution_count": 20,
     "metadata": {},
     "output_type": "execute_result"
    }
   ],
   "source": [
    "# Create a summary DataFrame showing the totals for the for the top 5 clients with the following information:\n",
    "# total units purchased, total shipping price, total revenue, and total profit. \n",
    "\n",
    "clean_df = df[[\"client_id\", \"qty\", \"shipping_price\", \"total_price\", \"total_profit\"]].copy()\n",
    "filter_df = clean_df[df[\"client_id\"].isin(top_5clients_ids)]\n",
    "combine_df = filter_df.groupby(\"client_id\").agg({\n",
    "            \"qty\": \"sum\",\n",
    "            \"shipping_price\": \"sum\",\n",
    "            \"total_price\": \"sum\",\n",
    "            \"total_profit\": \"sum\"\n",
    "            })\n",
    "\n",
    "combine_df"
   ]
  },
  {
   "cell_type": "code",
   "execution_count": 21,
   "id": "3ce1426c-addf-4ceb-93cf-910fb740dc33",
   "metadata": {},
   "outputs": [
    {
     "data": {
      "text/html": [
       "<div>\n",
       "<style scoped>\n",
       "    .dataframe tbody tr th:only-of-type {\n",
       "        vertical-align: middle;\n",
       "    }\n",
       "\n",
       "    .dataframe tbody tr th {\n",
       "        vertical-align: top;\n",
       "    }\n",
       "\n",
       "    .dataframe thead th {\n",
       "        text-align: right;\n",
       "    }\n",
       "</style>\n",
       "<table border=\"1\" class=\"dataframe\">\n",
       "  <thead>\n",
       "    <tr style=\"text-align: right;\">\n",
       "      <th></th>\n",
       "      <th>Quantity</th>\n",
       "      <th>Shipping Price ($mil)</th>\n",
       "      <th>Revenues ($mil)</th>\n",
       "      <th>Total Profit ($mil)</th>\n",
       "    </tr>\n",
       "    <tr>\n",
       "      <th>client_id</th>\n",
       "      <th></th>\n",
       "      <th></th>\n",
       "      <th></th>\n",
       "      <th></th>\n",
       "    </tr>\n",
       "  </thead>\n",
       "  <tbody>\n",
       "    <tr>\n",
       "      <th>24741</th>\n",
       "      <td>239,862</td>\n",
       "      <td>5.126</td>\n",
       "      <td>82.269</td>\n",
       "      <td>36.580</td>\n",
       "    </tr>\n",
       "    <tr>\n",
       "      <th>33615</th>\n",
       "      <td>64,313</td>\n",
       "      <td>1.829</td>\n",
       "      <td>8.377</td>\n",
       "      <td>2.202</td>\n",
       "    </tr>\n",
       "    <tr>\n",
       "      <th>38378</th>\n",
       "      <td>73,667</td>\n",
       "      <td>3.429</td>\n",
       "      <td>12.907</td>\n",
       "      <td>3.272</td>\n",
       "    </tr>\n",
       "    <tr>\n",
       "      <th>46820</th>\n",
       "      <td>75,768</td>\n",
       "      <td>1.601</td>\n",
       "      <td>9.744</td>\n",
       "      <td>2.737</td>\n",
       "    </tr>\n",
       "    <tr>\n",
       "      <th>66037</th>\n",
       "      <td>43,018</td>\n",
       "      <td>1.395</td>\n",
       "      <td>10.260</td>\n",
       "      <td>3.255</td>\n",
       "    </tr>\n",
       "  </tbody>\n",
       "</table>\n",
       "</div>"
      ],
      "text/plain": [
       "          Quantity  Shipping Price ($mil)  Revenues ($mil)  \\\n",
       "client_id                                                    \n",
       "24741      239,862                  5.126           82.269   \n",
       "33615       64,313                  1.829            8.377   \n",
       "38378       73,667                  3.429           12.907   \n",
       "46820       75,768                  1.601            9.744   \n",
       "66037       43,018                  1.395           10.260   \n",
       "\n",
       "           Total Profit ($mil)  \n",
       "client_id                       \n",
       "24741                   36.580  \n",
       "33615                    2.202  \n",
       "38378                    3.272  \n",
       "46820                    2.737  \n",
       "66037                    3.255  "
      ]
     },
     "execution_count": 21,
     "metadata": {},
     "output_type": "execute_result"
    }
   ],
   "source": [
    "# Format the data and rename the columns to names suitable for presentation.\n",
    "# Define the money columns. \n",
    "\n",
    "# Define a function that converts a dollar amount to millions.\n",
    "def currency_format_millions(amount):\n",
    "    return round(amount / 1000000, 3)\n",
    "\n",
    "# Apply the currency_format_millions function to only the money columns. \n",
    "money_columns = [\"shipping_price\", \"total_price\", \"total_profit\"]\n",
    "\n",
    "combine_df[money_columns] = combine_df[money_columns].apply(currency_format_millions)\n",
    "\n",
    "# Rename the columns to reflect the change in the money format. \n",
    "combine_df = combine_df.rename(columns = {\n",
    "    \"client_id\": \"Client ID\",\n",
    "    \"qty\": \"Quantity\",\n",
    "    \"shipping_price\": \"Shipping Price ($mil)\",\n",
    "    \"total_price\": \"Revenues ($mil)\",\n",
    "    \"total_profit\": \"Total Profit ($mil)\"\n",
    "})\n",
    "# Format Quantity to ,000 \n",
    "combine_df[\"Quantity\"] = combine_df[\"Quantity\"].apply(lambda x: f\"{x:,}\")\n",
    "\n",
    "combine_df"
   ]
  },
  {
   "cell_type": "code",
   "execution_count": 22,
   "id": "8ead0986",
   "metadata": {},
   "outputs": [
    {
     "data": {
      "text/html": [
       "<div>\n",
       "<style scoped>\n",
       "    .dataframe tbody tr th:only-of-type {\n",
       "        vertical-align: middle;\n",
       "    }\n",
       "\n",
       "    .dataframe tbody tr th {\n",
       "        vertical-align: top;\n",
       "    }\n",
       "\n",
       "    .dataframe thead th {\n",
       "        text-align: right;\n",
       "    }\n",
       "</style>\n",
       "<table border=\"1\" class=\"dataframe\">\n",
       "  <thead>\n",
       "    <tr style=\"text-align: right;\">\n",
       "      <th></th>\n",
       "      <th>Quantity</th>\n",
       "      <th>Shipping Price ($mil)</th>\n",
       "      <th>Revenues ($mil)</th>\n",
       "      <th>Total Profit ($mil)</th>\n",
       "    </tr>\n",
       "    <tr>\n",
       "      <th>client_id</th>\n",
       "      <th></th>\n",
       "      <th></th>\n",
       "      <th></th>\n",
       "      <th></th>\n",
       "    </tr>\n",
       "  </thead>\n",
       "  <tbody>\n",
       "    <tr>\n",
       "      <th>24741</th>\n",
       "      <td>239,862</td>\n",
       "      <td>5.126</td>\n",
       "      <td>82.269</td>\n",
       "      <td>36.580</td>\n",
       "    </tr>\n",
       "    <tr>\n",
       "      <th>38378</th>\n",
       "      <td>73,667</td>\n",
       "      <td>3.429</td>\n",
       "      <td>12.907</td>\n",
       "      <td>3.272</td>\n",
       "    </tr>\n",
       "    <tr>\n",
       "      <th>66037</th>\n",
       "      <td>43,018</td>\n",
       "      <td>1.395</td>\n",
       "      <td>10.260</td>\n",
       "      <td>3.255</td>\n",
       "    </tr>\n",
       "    <tr>\n",
       "      <th>46820</th>\n",
       "      <td>75,768</td>\n",
       "      <td>1.601</td>\n",
       "      <td>9.744</td>\n",
       "      <td>2.737</td>\n",
       "    </tr>\n",
       "    <tr>\n",
       "      <th>33615</th>\n",
       "      <td>64,313</td>\n",
       "      <td>1.829</td>\n",
       "      <td>8.377</td>\n",
       "      <td>2.202</td>\n",
       "    </tr>\n",
       "  </tbody>\n",
       "</table>\n",
       "</div>"
      ],
      "text/plain": [
       "          Quantity  Shipping Price ($mil)  Revenues ($mil)  \\\n",
       "client_id                                                    \n",
       "24741      239,862                  5.126           82.269   \n",
       "38378       73,667                  3.429           12.907   \n",
       "66037       43,018                  1.395           10.260   \n",
       "46820       75,768                  1.601            9.744   \n",
       "33615       64,313                  1.829            8.377   \n",
       "\n",
       "           Total Profit ($mil)  \n",
       "client_id                       \n",
       "24741                   36.580  \n",
       "38378                    3.272  \n",
       "66037                    3.255  \n",
       "46820                    2.737  \n",
       "33615                    2.202  "
      ]
     },
     "execution_count": 22,
     "metadata": {},
     "output_type": "execute_result"
    }
   ],
   "source": [
    "# Sort the updated data by \"Total Profit (millions)\" form highest to lowest and assign the sort to a new DatFrame.\n",
    "sorted_df = combine_df.sort_values(by = \"Total Profit ($mil)\", ascending = False)\n",
    "sorted_df"
   ]
  },
  {
   "cell_type": "markdown",
   "id": "be88df99-7323-4fc0-abc7-3931ff5c31f5",
   "metadata": {},
   "source": [
    "## Summary\n",
    "\n",
    "* These are the top 5 clients by number of orders.\n",
    "* Each customer has a unique Client ID.\n",
    "* The top 5 clients are sorted by Total Profit in a descending order.  For example,\n",
    "  client_id 24741 generated $36.58 million in total profits during the year 2023.\n",
    "* It is no surprise that this same client also generated the most quantity ordered,\n",
    "  shipping price and revenues.\n",
    "* The results for the four other customers are more similar, measured by the four\n",
    "  criterias.  \n"
   ]
  },
  {
   "cell_type": "code",
   "execution_count": null,
   "id": "2873a48f-94d4-48aa-8dd6-be6234118af8",
   "metadata": {},
   "outputs": [],
   "source": []
  }
 ],
 "metadata": {
  "kernelspec": {
   "display_name": "Python 3 (ipykernel)",
   "language": "python",
   "name": "python3"
  },
  "language_info": {
   "codemirror_mode": {
    "name": "ipython",
    "version": 3
   },
   "file_extension": ".py",
   "mimetype": "text/x-python",
   "name": "python",
   "nbconvert_exporter": "python",
   "pygments_lexer": "ipython3",
   "version": "3.12.4"
  }
 },
 "nbformat": 4,
 "nbformat_minor": 5
}
